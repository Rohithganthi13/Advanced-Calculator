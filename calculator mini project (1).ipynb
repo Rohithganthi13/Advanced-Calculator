{
 "cells": [
  {
   "cell_type": "code",
   "execution_count": 29,
   "id": "fcdea06f-6ef4-492b-970c-215b351d1d21",
   "metadata": {},
   "outputs": [
    {
     "name": "stdin",
     "output_type": "stream",
     "text": [
      "Enter the first number: 8\n",
      "Enter the second number: 9\n"
     ]
    },
    {
     "name": "stdout",
     "output_type": "stream",
     "text": [
      "Select the operation to perform\n",
      "1.Addition\n",
      "2.Subtraction\n",
      "3.Multiplication\n",
      "4.Division\n"
     ]
    },
    {
     "name": "stdin",
     "output_type": "stream",
     "text": [
      "Enter the operation to perform: 0\n"
     ]
    },
    {
     "name": "stdout",
     "output_type": "stream",
     "text": [
      "Invalid option\n"
     ]
    }
   ],
   "source": [
    "def calc():\n",
    "    try:\n",
    "        num1=float(input(\"Enter the first number:\"))\n",
    "        num2=float(input(\"Enter the second number:\"))\n",
    "        print(\"Select the operation to perform\")\n",
    "        print(\"1.Addition\")\n",
    "        print(\"2.Subtraction\")\n",
    "        print(\"3.Multiplication\")\n",
    "        print(\"4.Division\")\n",
    "        temp=int(input(\"Enter the operation to perform:\"))\n",
    "        \n",
    "        if temp==1:\n",
    "            add=num1+num2\n",
    "            print(f\"The Addition of {num1} and {num2} is: {add}\")\n",
    "        elif temp==2:\n",
    "            sub=num1-num2\n",
    "            print(f\"The Subtraction of {num1} and {num2} is: {sub}\")\n",
    "        elif temp==3:\n",
    "            mul=num1*num2\n",
    "            print(f\"The Multiplication of {num1} and {num2} is: {mul}\")\n",
    "        elif temp==4:\n",
    "            try:\n",
    "                 div=num1/num2\n",
    "                 print(f\"The Division of {num1} and {num2} is: {mul}\")\n",
    "            except ZeroDivisionError:\n",
    "                print(\"ZeroDivisionError\")\n",
    "        else:\n",
    "            print(\"Invalid option\")\n",
    "    except ValueError:\n",
    "            print(\"Enter only Numbers\")\n",
    "calc()\n",
    "           "
   ]
  },
  {
   "cell_type": "code",
   "execution_count": null,
   "id": "3a29d6d6-560b-4ea2-8748-334ac2eb702e",
   "metadata": {},
   "outputs": [],
   "source": []
  }
 ],
 "metadata": {
  "kernelspec": {
   "display_name": "Python 3 (ipykernel)",
   "language": "python",
   "name": "python3"
  },
  "language_info": {
   "codemirror_mode": {
    "name": "ipython",
    "version": 3
   },
   "file_extension": ".py",
   "mimetype": "text/x-python",
   "name": "python",
   "nbconvert_exporter": "python",
   "pygments_lexer": "ipython3",
   "version": "3.12.4"
  }
 },
 "nbformat": 4,
 "nbformat_minor": 5
}
